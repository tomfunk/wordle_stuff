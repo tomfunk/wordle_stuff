{
 "cells": [
  {
   "cell_type": "code",
   "execution_count": 1,
   "id": "37474969-e894-45b5-beb8-62fc522afb2e",
   "metadata": {},
   "outputs": [],
   "source": [
    "import env\n",
    "import random\n",
    "import numpy as np"
   ]
  },
  {
   "cell_type": "code",
   "execution_count": 2,
   "id": "3ba8857c-fce0-4fb9-91fc-a7d08ea82c54",
   "metadata": {},
   "outputs": [],
   "source": [
    "with open('valid-words.csv') as f:\n",
    "    valid_words = f.readlines()\n",
    "valid_words = [w.strip() for w in valid_words]\n",
    "\n",
    "with open('word-bank.csv') as f:\n",
    "    word_bank = f.readlines()\n",
    "word_bank = [w.strip() for w in word_bank]"
   ]
  },
  {
   "cell_type": "code",
   "execution_count": 3,
   "id": "68abe528-37ac-487e-b633-15e92fa76743",
   "metadata": {},
   "outputs": [],
   "source": [
    "e = env.WordleEnv1(valid_words, word_bank)"
   ]
  },
  {
   "cell_type": "code",
   "execution_count": 20,
   "id": "8b7ea98c-175d-4a96-9e05-5529418c21c1",
   "metadata": {},
   "outputs": [
    {
     "data": {
      "text/plain": [
       "array([[0, 0, 0, 0, 0],\n",
       "       [0, 0, 0, 0, 0],\n",
       "       [0, 0, 0, 0, 0],\n",
       "       ...,\n",
       "       [0, 0, 0, 0, 0],\n",
       "       [0, 0, 0, 0, 0],\n",
       "       [0, 0, 0, 0, 0]])"
      ]
     },
     "execution_count": 20,
     "metadata": {},
     "output_type": "execute_result"
    }
   ],
   "source": [
    "e.reset()"
   ]
  },
  {
   "cell_type": "code",
   "execution_count": 21,
   "id": "910fb72e-db93-47dd-86ff-a9e5bab2518a",
   "metadata": {},
   "outputs": [
    {
     "data": {
      "text/plain": [
       "(array([[ 1,  1,  0, -1,  0],\n",
       "        [ 1,  1,  0,  0,  0],\n",
       "        [ 1,  1,  0,  0,  0],\n",
       "        ...,\n",
       "        [ 0,  0,  0,  0,  1],\n",
       "        [ 0,  0,  0, -1,  0],\n",
       "        [ 0,  0,  0,  0,  0]]),\n",
       " -1,\n",
       " False,\n",
       " {'attempt': 1,\n",
       "  'guesses': [['a', 'n', 't', 'a', 'e'],\n",
       "   ['', '', '', '', ''],\n",
       "   ['', '', '', '', ''],\n",
       "   ['', '', '', '', ''],\n",
       "   ['', '', '', '', ''],\n",
       "   ['', '', '', '', '']],\n",
       "  'known_letters': ['', '', '', 'a', ''],\n",
       "  'present_letters': ['n', 'a'],\n",
       "  'absent_letters': ['e', 't']})"
      ]
     },
     "execution_count": 21,
     "metadata": {},
     "output_type": "execute_result"
    }
   ],
   "source": [
    "e.step(432)"
   ]
  },
  {
   "cell_type": "markdown",
   "id": "65c92106-6535-4694-9eae-9e1b3a6a56cd",
   "metadata": {},
   "source": [
    "# Simple Argmax Agent"
   ]
  },
  {
   "cell_type": "code",
   "execution_count": 6,
   "id": "05b1d58e-31ca-48a6-b45b-d0a98cbbc52a",
   "metadata": {},
   "outputs": [],
   "source": [
    "def simple_agent(observation):\n",
    "    if observation.sum() == 0:\n",
    "        return random.randint(0, observation.shape[0])\n",
    "    return observation.sum(axis=1).argmax()"
   ]
  },
  {
   "cell_type": "code",
   "execution_count": 7,
   "id": "ebf92e6f-936b-49e2-8376-fb23ac29ac02",
   "metadata": {},
   "outputs": [
    {
     "name": "stdout",
     "output_type": "stream",
     "text": [
      "average score: 2.19\n",
      "average attempts: 5.75\n",
      "CPU times: user 2.38 s, sys: 7.33 ms, total: 2.39 s\n",
      "Wall time: 2.38 s\n"
     ]
    }
   ],
   "source": [
    "%%time\n",
    "rewards = []\n",
    "attempts = []\n",
    "for _ in range(100):\n",
    "    done = False\n",
    "    observation = e.reset()\n",
    "    while not done:\n",
    "        action = simple_agent(observation)\n",
    "        # print(e.valid_words[action])\n",
    "        observation, reward, done, info = e.step(action)\n",
    "    rewards.append(reward)\n",
    "    attempts.append(info[\"attempt\"])\n",
    "    # print(f'scored {reward} in {info[\"attempt\"]} attempt(s)')\n",
    "print(f'average score: {np.mean(rewards)}')\n",
    "print(f'average attempts: {np.mean(attempts)}')"
   ]
  },
  {
   "cell_type": "markdown",
   "id": "9de0f826-8e5b-4cec-8fc2-f1045f0d5e97",
   "metadata": {},
   "source": [
    "# Stable Baselines"
   ]
  },
  {
   "cell_type": "code",
   "execution_count": 8,
   "id": "20e137d2-a424-4ae0-a93b-8ce6514c6004",
   "metadata": {},
   "outputs": [],
   "source": [
    "from stable_baselines3 import A2C"
   ]
  },
  {
   "cell_type": "code",
   "execution_count": 12,
   "id": "3039af12-099b-48fb-b5f6-dfc74a033053",
   "metadata": {},
   "outputs": [
    {
     "name": "stdout",
     "output_type": "stream",
     "text": [
      "CPU times: user 1min 57s, sys: 1.34 s, total: 1min 59s\n",
      "Wall time: 1min 9s\n"
     ]
    },
    {
     "data": {
      "text/plain": [
       "<stable_baselines3.a2c.a2c.A2C at 0x7fed40b40950>"
      ]
     },
     "execution_count": 12,
     "metadata": {},
     "output_type": "execute_result"
    }
   ],
   "source": [
    "%%time\n",
    "model = A2C('MlpPolicy', e, verbose=0)\n",
    "model.learn(total_timesteps=5000)"
   ]
  },
  {
   "cell_type": "code",
   "execution_count": 19,
   "id": "cef5a066-f09b-4614-8cbf-ccb1bea32a5f",
   "metadata": {},
   "outputs": [
    {
     "name": "stdout",
     "output_type": "stream",
     "text": [
      "average score: 1.31\n",
      "average attempts: 5.77\n",
      "CPU times: user 2.34 s, sys: 10.9 ms, total: 2.35 s\n",
      "Wall time: 2.35 s\n"
     ]
    }
   ],
   "source": [
    "%%time\n",
    "rewards = []\n",
    "attempts = []\n",
    "for _ in range(1):\n",
    "    done = False\n",
    "    observation = e.reset()\n",
    "    while not done:\n",
    "        action, _state = model.predict(obs, deterministic=True)\n",
    "        print(e.valid_words[action])\n",
    "        observation, reward, done, info = e.step(action)\n",
    "    rewards.append(reward)\n",
    "    attempts.append(info[\"attempt\"])\n",
    "    print(f'scored {reward} in {info[\"attempt\"]} attempt(s)')\n",
    "print(f'average score: {np.mean(rewards)}')\n",
    "print(f'average attempts: {np.mean(attempts)}')"
   ]
  },
  {
   "cell_type": "markdown",
   "id": "6b37ed0e-d30e-4bb6-afd3-a1c2cf7393c3",
   "metadata": {},
   "source": [
    "# Manual Analysis"
   ]
  },
  {
   "cell_type": "code",
   "execution_count": 28,
   "id": "0048896b-254e-464a-b253-a08cf7d4d9ce",
   "metadata": {},
   "outputs": [],
   "source": [
    "import string\n",
    "import pandas as pd"
   ]
  },
  {
   "cell_type": "code",
   "execution_count": 23,
   "id": "b441b2a5-0f94-451b-aad5-77e2ee056b81",
   "metadata": {},
   "outputs": [],
   "source": [
    "wbm = np.array([list(word) for word in word_bank])"
   ]
  },
  {
   "cell_type": "code",
   "execution_count": 24,
   "id": "f91f4edc-94fc-4d63-830c-3aa2bb8ed1f6",
   "metadata": {},
   "outputs": [
    {
     "data": {
      "text/plain": [
       "array([['a', 'b', 'a', 'c', 'k'],\n",
       "       ['a', 'b', 'a', 's', 'e'],\n",
       "       ['a', 'b', 'a', 't', 'e'],\n",
       "       ...,\n",
       "       ['z', 'e', 'b', 'r', 'a'],\n",
       "       ['z', 'e', 's', 't', 'y'],\n",
       "       ['z', 'o', 'n', 'a', 'l']], dtype='<U1')"
      ]
     },
     "execution_count": 24,
     "metadata": {},
     "output_type": "execute_result"
    }
   ],
   "source": [
    "for string.ascii_lowercase"
   ]
  },
  {
   "cell_type": "code",
   "execution_count": 51,
   "id": "8e5f9e44-f46c-4c12-be16-bb3d6260f62a",
   "metadata": {},
   "outputs": [],
   "source": [
    "stats = []\n",
    "for l in string.ascii_lowercase:\n",
    "    lm = wbm == l\n",
    "    stats.append({\n",
    "        'letter': l,\n",
    "        'words_contain': lm.max(axis=1).sum(),\n",
    "        'words_contain_percent': lm.max(axis=1).mean(),\n",
    "        'freq': lm.sum(axis=1).mean(),\n",
    "        'freq_if_present': lm.sum(axis=1)[lm.sum(axis=1) > 0].mean(),\n",
    "        'max_freq': lm.sum(axis=1).max(),\n",
    "    })"
   ]
  },
  {
   "cell_type": "code",
   "execution_count": 89,
   "id": "bdcc6800-e838-4acf-94e7-c828d7ab7d19",
   "metadata": {},
   "outputs": [],
   "source": [
    "from tabulate import tabulate"
   ]
  },
  {
   "cell_type": "code",
   "execution_count": 91,
   "id": "a13ed6ca-4e89-4e2f-b106-8c4617267f81",
   "metadata": {},
   "outputs": [
    {
     "name": "stdout",
     "output_type": "stream",
     "text": [
      "| letter   |   words_contain |   words_contain_percent |      freq |   freq_if_present |   max_freq |\n",
      "|:---------|----------------:|------------------------:|----------:|------------------:|-----------:|\n",
      "| a        |             909 |               0.392657  | 0.422894  |           1.07701 |          2 |\n",
      "| b        |             267 |               0.115335  | 0.121382  |           1.05243 |          3 |\n",
      "| c        |             448 |               0.193521  | 0.206048  |           1.06473 |          2 |\n",
      "| d        |             370 |               0.159827  | 0.169762  |           1.06216 |          3 |\n",
      "| e        |            1056 |               0.456156  | 0.532613  |           1.16761 |          3 |\n",
      "| f        |             207 |               0.0894168 | 0.0993521 |           1.11111 |          3 |\n",
      "| g        |             300 |               0.12959   | 0.134341  |           1.03667 |          2 |\n",
      "| h        |             379 |               0.163715  | 0.168035  |           1.02639 |          2 |\n",
      "| i        |             647 |               0.279482  | 0.289849  |           1.03709 |          2 |\n",
      "| j        |              27 |               0.0116631 | 0.0116631 |           1       |          1 |\n",
      "| k        |             202 |               0.087257  | 0.0907127 |           1.0396  |          2 |\n",
      "| l        |             648 |               0.279914  | 0.310583  |           1.10957 |          2 |\n",
      "| m        |             298 |               0.128726  | 0.136501  |           1.0604  |          3 |\n",
      "| n        |             550 |               0.237581  | 0.24838   |           1.04545 |          3 |\n",
      "| o        |             673 |               0.290713  | 0.325702  |           1.12036 |          2 |\n",
      "| p        |             346 |               0.14946   | 0.158531  |           1.06069 |          3 |\n",
      "| q        |              29 |               0.012527  | 0.012527  |           1       |          1 |\n",
      "| r        |             837 |               0.361555  | 0.388337  |           1.07407 |          3 |\n",
      "| s        |             618 |               0.266955  | 0.288985  |           1.08252 |          3 |\n",
      "| t        |             667 |               0.288121  | 0.314903  |           1.09295 |          3 |\n",
      "| u        |             457 |               0.197408  | 0.201728  |           1.02188 |          2 |\n",
      "| v        |             149 |               0.0643629 | 0.0660907 |           1.02685 |          2 |\n",
      "| w        |             194 |               0.0838013 | 0.0842333 |           1.00515 |          2 |\n",
      "| x        |              37 |               0.0159827 | 0.0159827 |           1       |          1 |\n",
      "| y        |             417 |               0.18013   | 0.183585  |           1.01918 |          2 |\n",
      "| z        |              35 |               0.0151188 | 0.0172786 |           1.14286 |          2 |\n"
     ]
    }
   ],
   "source": [
    "print(tabulate(pd.DataFrame(stats).set_index('letter'), tablefmt=\"pipe\", headers=\"keys\"))"
   ]
  },
  {
   "cell_type": "code",
   "execution_count": 55,
   "id": "ca23ce23-422c-4dc1-a16d-5189bfb5caed",
   "metadata": {},
   "outputs": [],
   "source": [
    "contain_rate= {}\n",
    "for l in string.ascii_lowercase:\n",
    "    lm = wbm == l\n",
    "    contain_rate[l] = lm.max(axis=1).mean()"
   ]
  },
  {
   "cell_type": "code",
   "execution_count": 75,
   "id": "0d6e7195-f651-43b6-a1fc-29d3f9269fb0",
   "metadata": {},
   "outputs": [],
   "source": [
    "scores = []\n",
    "for word in valid_words:\n",
    "    score = 0\n",
    "    for l in set(list(word)):\n",
    "        score += contain_rate[l]\n",
    "    scores.append(score)    "
   ]
  },
  {
   "cell_type": "code",
   "execution_count": 76,
   "id": "d398ad09-b125-4eef-a376-de237f4cf262",
   "metadata": {},
   "outputs": [],
   "source": [
    "df = pd.DataFrame({'word': valid_words, 'score': scores})"
   ]
  },
  {
   "cell_type": "code",
   "execution_count": 77,
   "id": "107f2dbc-94e9-488b-83c5-b7f9dbbd87b1",
   "metadata": {},
   "outputs": [],
   "source": [
    "df['in_bank'] = df['word'].isin(word_bank)"
   ]
  },
  {
   "cell_type": "code",
   "execution_count": 93,
   "id": "a1bfd584-2247-4e59-96ec-fc5c6394f04f",
   "metadata": {},
   "outputs": [
    {
     "name": "stdout",
     "output_type": "stream",
     "text": [
      "| word   |   score | in_bank   |\n",
      "|:-------|--------:|:----------|\n",
      "| alter  | 1.7784  | True      |\n",
      "| later  | 1.7784  | True      |\n",
      "| alert  | 1.7784  | True      |\n",
      "| irate  | 1.77797 | True      |\n",
      "| arose  | 1.76803 | True      |\n",
      "| stare  | 1.76544 | True      |\n",
      "| raise  | 1.7568  | True      |\n",
      "| arise  | 1.7568  | True      |\n",
      "| learn  | 1.72786 | True      |\n",
      "| renal  | 1.72786 | True      |\n",
      "| saner  | 1.7149  | True      |\n",
      "| snare  | 1.7149  | True      |\n",
      "| cater  | 1.69201 | True      |\n",
      "| trace  | 1.69201 | True      |\n",
      "| react  | 1.69201 | True      |\n",
      "| crate  | 1.69201 | True      |\n",
      "| stale  | 1.6838  | True      |\n",
      "| steal  | 1.6838  | True      |\n",
      "| least  | 1.6838  | True      |\n",
      "| slate  | 1.6838  | True      |\n"
     ]
    }
   ],
   "source": [
    "print(tabulate(df[df['in_bank']].sort_values(by='score', ascending=False).head(20).set_index('word'), tablefmt=\"pipe\", headers=\"keys\"))\n"
   ]
  },
  {
   "cell_type": "code",
   "execution_count": 92,
   "id": "d6336cc7-0f31-47ae-b129-90e0ef7f263c",
   "metadata": {},
   "outputs": [
    {
     "name": "stdout",
     "output_type": "stream",
     "text": [
      "| word   |   score | in_bank   |\n",
      "|:-------|--------:|:----------|\n",
      "| oater  | 1.7892  | False     |\n",
      "| roate  | 1.7892  | False     |\n",
      "| orate  | 1.7892  | False     |\n",
      "| realo  | 1.78099 | False     |\n",
      "| taler  | 1.7784  | False     |\n",
      "| artel  | 1.7784  | False     |\n",
      "| ratel  | 1.7784  | False     |\n",
      "| alert  | 1.7784  | True      |\n",
      "| alter  | 1.7784  | True      |\n",
      "| later  | 1.7784  | True      |\n",
      "| terai  | 1.77797 | False     |\n",
      "| irate  | 1.77797 | True      |\n",
      "| retia  | 1.77797 | False     |\n",
      "| raile  | 1.76976 | False     |\n",
      "| ariel  | 1.76976 | False     |\n",
      "| arose  | 1.76803 | True      |\n",
      "| aeros  | 1.76803 | False     |\n",
      "| soare  | 1.76803 | False     |\n",
      "| taser  | 1.76544 | False     |\n",
      "| strae  | 1.76544 | False     |\n"
     ]
    }
   ],
   "source": [
    "print(tabulate(df.sort_values(by='score', ascending=False).head(20).set_index('word'), tablefmt=\"pipe\", headers=\"keys\"))\n"
   ]
  },
  {
   "cell_type": "code",
   "execution_count": 99,
   "id": "0c6f1cfa-a572-4101-a7a4-921fc80b4d53",
   "metadata": {},
   "outputs": [
    {
     "name": "stdout",
     "output_type": "stream",
     "text": [
      "| word   |   score | in_bank   |\n",
      "|:-------|--------:|:----------|\n",
      "| sonic  | 1.26825 | True      |\n",
      "| scion  | 1.26825 | True      |\n",
      "| noisy  | 1.25486 | True      |\n",
      "| disco  | 1.1905  | True      |\n",
      "| bison  | 1.19006 | True      |\n",
      "| sound  | 1.15248 | True      |\n",
      "| synod  | 1.13521 | True      |\n",
      "| shiny  | 1.12786 | True      |\n",
      "| spiny  | 1.11361 | True      |\n",
      "| suing  | 1.11102 | True      |\n",
      "| using  | 1.11102 | True      |\n",
      "| minus  | 1.11015 | True      |\n",
      "| bonus  | 1.10799 | True      |\n",
      "| doing  | 1.09719 | True      |\n",
      "| dingo  | 1.09719 | True      |\n",
      "| spicy  | 1.06955 | True      |\n",
      "| music  | 1.06609 | True      |\n",
      "| snowy  | 1.05918 | True      |\n",
      "| bingo  | 1.0527  | True      |\n",
      "| hound  | 1.04924 | True      |\n"
     ]
    }
   ],
   "source": [
    "print(tabulate(df[(df['in_bank']) & (~df.word.str.contains('[alter]', regex=True))].sort_values(by='score', ascending=False).head(20).set_index('word'), tablefmt=\"pipe\", headers=\"keys\"))\n"
   ]
  },
  {
   "cell_type": "code",
   "execution_count": 100,
   "id": "ec7619a2-ff76-4c24-bb26-4a0668947c61",
   "metadata": {},
   "outputs": [
    {
     "name": "stdout",
     "output_type": "stream",
     "text": [
      "| word   |   score | in_bank   |\n",
      "|:-------|--------:|:----------|\n",
      "| lysin  | 1.24406 | False     |\n",
      "| linds  | 1.22376 | False     |\n",
      "| sulci  | 1.21728 | False     |\n",
      "| sling  | 1.19352 | True      |\n",
      "| lings  | 1.19352 | False     |\n",
      "| limns  | 1.19266 | False     |\n",
      "| hilus  | 1.18747 | False     |\n",
      "| blins  | 1.17927 | False     |\n",
      "| incus  | 1.17495 | False     |\n",
      "| pilus  | 1.17322 | False     |\n",
      "| pulis  | 1.17322 | False     |\n",
      "| shily  | 1.17019 | False     |\n",
      "| clips  | 1.16933 | False     |\n",
      "| idyls  | 1.16631 | False     |\n",
      "| unlid  | 1.15421 | False     |\n",
      "| linch  | 1.15421 | False     |\n",
      "| gusli  | 1.15335 | False     |\n",
      "| iglus  | 1.15335 | False     |\n",
      "| muils  | 1.15248 | False     |\n",
      "| simul  | 1.15248 | False     |\n"
     ]
    }
   ],
   "source": [
    "print(tabulate(df[(~df.word.str.contains('[oater]', regex=True))].sort_values(by='score', ascending=False).head(20).set_index('word'), tablefmt=\"pipe\", headers=\"keys\"))\n"
   ]
  },
  {
   "cell_type": "code",
   "execution_count": null,
   "id": "0c790da2-2802-415a-9b30-c007f558deec",
   "metadata": {},
   "outputs": [],
   "source": []
  }
 ],
 "metadata": {
  "kernelspec": {
   "display_name": "Python 3 (ipykernel)",
   "language": "python",
   "name": "python3"
  },
  "language_info": {
   "codemirror_mode": {
    "name": "ipython",
    "version": 3
   },
   "file_extension": ".py",
   "mimetype": "text/x-python",
   "name": "python",
   "nbconvert_exporter": "python",
   "pygments_lexer": "ipython3",
   "version": "3.7.9"
  }
 },
 "nbformat": 4,
 "nbformat_minor": 5
}
